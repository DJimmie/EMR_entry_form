{
 "cells": [
  {
   "cell_type": "markdown",
   "metadata": {},
   "source": [
    "# Dependancies"
   ]
  },
  {
   "cell_type": "code",
   "execution_count": 1,
   "metadata": {
    "ExecuteTime": {
     "end_time": "2019-09-08T22:24:03.182248Z",
     "start_time": "2019-09-08T22:24:03.128245Z"
    },
    "collapsed": true
   },
   "outputs": [],
   "source": [
    "import numpy as np\n",
    "import pandas as pd\n",
    "import networkx as nx\n",
    "%matplotlib inline\n",
    "import matplotlib.pyplot as plt\n",
    "import datetime as dt\n",
    "# from Graph import Graph\n",
    "# from Weighted_Graph import Weighted_Graph\n",
    "import random\n",
    "from IPython.display import Image\n",
    "import sqlite3\n",
    "from networkx.algorithms import community\n",
    "from ipywidgets import interact\n",
    "import ipywidgets as widgets\n",
    "# sqlite_server=r'C:\\Users\\Crystal\\Desktop\\Programs\\dataset_repo\\emr_database.db'\n",
    "# global sqlite_server\n",
    "# %matplotlib notebook\n",
    "from IPython.display import clear_output\n",
    "from graphviz import Digraph\n",
    "import graphviz\n",
    "import pydot\n",
    "import os\n",
    "import sys\n",
    "os.environ[\"PATH\"] += os.pathsep + 'C:/Program Files (x86)/Graphviz2.38/bin/'"
   ]
  },
  {
   "cell_type": "markdown",
   "metadata": {},
   "source": [
    "# Class"
   ]
  },
  {
   "cell_type": "code",
   "execution_count": null,
   "metadata": {
    "collapsed": true
   },
   "outputs": [],
   "source": []
  },
  {
   "cell_type": "code",
   "execution_count": null,
   "metadata": {
    "collapsed": true
   },
   "outputs": [],
   "source": []
  },
  {
   "cell_type": "markdown",
   "metadata": {},
   "source": [
    "# Functions"
   ]
  },
  {
   "cell_type": "code",
   "execution_count": 2,
   "metadata": {
    "ExecuteTime": {
     "end_time": "2019-09-08T22:24:03.301255Z",
     "start_time": "2019-09-08T22:24:03.278254Z"
    },
    "collapsed": true
   },
   "outputs": [],
   "source": [
    "def top_level(top):\n",
    "    top=top\n",
    "    node_path=list(G.successors(top))+[top]\n",
    "    \n",
    "    H=G.subgraph(node_path)\n",
    "    #     list(H)\n",
    "    edge_label = nx.get_edge_attributes(H, edge_attribute_1)\n",
    "    \n",
    "#     print(edge_label.values())\n",
    "\n",
    "    x=edge_label\n",
    "    return x,top\n"
   ]
  },
  {
   "cell_type": "code",
   "execution_count": 3,
   "metadata": {
    "ExecuteTime": {
     "end_time": "2019-09-08T22:24:03.492266Z",
     "start_time": "2019-09-08T22:24:03.304255Z"
    },
    "collapsed": true
   },
   "outputs": [],
   "source": [
    "def make_graph(x,title,node_group,*args,**kwargs):\n",
    "    \n",
    "#     print(x)\n",
    "\n",
    "    graph_set={'rankdir':'TB',\n",
    "              'landscape':'False',\n",
    "              'size':'20,16',\n",
    "              'splines':'polyline'}\n",
    "\n",
    "    node_set={'color':'blue',\n",
    "             'shape':'ellipse',\n",
    "             'style':'filled',\n",
    "              'fillcolor':'None'}\n",
    "\n",
    "    edge_set={'headlabel':None,\n",
    "             'taillabel':None,\n",
    "             'arrowsize':'1',\n",
    "             'label':None,\n",
    "             'labelfontsize':'6',\n",
    "             'labeldistance':'2.0',\n",
    "             'labelangle':'45',\n",
    "             'headport':'c',\n",
    "             'fontsize':'8',\n",
    "             'fontcolor':'red'}\n",
    "\n",
    "    g = Digraph(name='learn_1', comment='What goes here', filename=None, directory=None, format='pdf',\n",
    "                engine=None, encoding='utf-8', graph_attr=graph_set, node_attr=node_set, edge_attr=edge_set, body=None, strict=False)\n",
    "\n",
    "    # g.attr('node', color='red')\n",
    "   \n",
    "    my_select='descript'\n",
    "    z=list(x)\n",
    "    for i in range(len(z)):\n",
    "#         g.edge(z[i][0],z[i][1],headlabel=str(x.get((z[i][0],z[i][1]))))\n",
    "        g.edge(z[i][0],z[i][1],label=str(x.get((z[i][0],z[i][1]))))\n",
    "        \n",
    "#         g.node(z[i][0],z[i][1],label=str(x.get((z[i][0],z[i][1]))))\n",
    "\n",
    "#     g.attr('node',shape='box')\n",
    "#     g.node('TSMS.py',label='Test Scheduling Program')\n",
    "    \n",
    "#     for arg in args:\n",
    "#         print(f'what is arg {arg}')\n",
    "#         with g.subgraph(name='cluster_0') as c:\n",
    "#             c.attr(style='filled', color='lightgrey')\n",
    "#             c.node_attr.update(style='filled', color='white')\n",
    "#             c.edges([('scan', 'rejected'), ('scan', 'pass'),('rejected','sensor log update'),('pass','sensor log update')])\n",
    "#             c.attr(label='LabView Code')\n",
    "    \n",
    "    now=dt.datetime.now()\n",
    "    tag=now.strftime('%S')\n",
    "    \n",
    "    g.node(z[0][0], shape='box') #for a BFS, z[0][0] is the first (start) node of the flow\n",
    "#     g.node(z[i][1], shape='Msquare')  #for a BFS, z[len of the edge list][1] is the last (stop) node of the flow\n",
    "\n",
    "    for key, value in node_group.items():\n",
    "        print(f'{key}={value}')\n",
    "        if (key=='dependancy'):\n",
    "            for i in value:\n",
    "                g.node(i,shape='ellipse', style='filled', color='lightgrey')\n",
    "        elif(key=='top'):\n",
    "            for i in value:\n",
    "                g.node(i,shape='diamond', style='filled', color='black')\n",
    "        elif(key=='code'):\n",
    "            for i in value:\n",
    "                g.node(i,shape='box', style='filled', color='blue')\n",
    "            \n",
    "        \n",
    "    \n",
    "    g.view(f'C:/Users/96015/Desktop/Programming/Off_Project_Folders/program_flow_chart/{title}-{tag}')\n",
    "    \n",
    "    "
   ]
  },
  {
   "cell_type": "code",
   "execution_count": 4,
   "metadata": {
    "ExecuteTime": {
     "end_time": "2019-09-08T22:24:03.516267Z",
     "start_time": "2019-09-08T22:24:03.497266Z"
    },
    "collapsed": true
   },
   "outputs": [],
   "source": [
    "def BFS(source,the_attr):\n",
    "\n",
    "    bfs_path=list(nx.bfs_tree(G, source=source, reverse=False, depth_limit=None))\n",
    "    # print(bfs_path)\n",
    "\n",
    "    H=G.subgraph(bfs_path)\n",
    "    #     list(H)\n",
    "    edge_label = nx.get_edge_attributes(H, the_attr)\n",
    "    \n",
    "#     print(edge_label.values())\n",
    "\n",
    "    x=edge_label.keys()\n",
    "#     print(x)\n",
    "    return edge_label,bfs_path[0]\n",
    "    "
   ]
  },
  {
   "cell_type": "code",
   "execution_count": 5,
   "metadata": {
    "ExecuteTime": {
     "end_time": "2019-09-08T22:24:03.532268Z",
     "start_time": "2019-09-08T22:24:03.520268Z"
    },
    "collapsed": true
   },
   "outputs": [],
   "source": [
    "def assign_attrs_to_edges(e,header_list):\n",
    "    for k in header_list[2:]: # Assigning attributes to the edges\n",
    "        for i,m in enumerate(e):\n",
    "            G[e[i][0]][e[i][1]][k]=df1[k].iloc[i]\n",
    "    "
   ]
  },
  {
   "cell_type": "markdown",
   "metadata": {},
   "source": [
    "# Get Data"
   ]
  },
  {
   "cell_type": "code",
   "execution_count": 6,
   "metadata": {
    "ExecuteTime": {
     "end_time": "2019-09-08T22:24:03.563270Z",
     "start_time": "2019-09-08T22:24:03.537269Z"
    },
    "collapsed": true
   },
   "outputs": [],
   "source": [
    "global df1\n",
    "df1=pd.read_excel('emr_tech_entry_flow.xlsx', sheet_name='Sheet1',nrows=None)"
   ]
  },
  {
   "cell_type": "code",
   "execution_count": 7,
   "metadata": {
    "ExecuteTime": {
     "end_time": "2019-09-08T22:24:03.583271Z",
     "start_time": "2019-09-08T22:24:03.566270Z"
    }
   },
   "outputs": [
    {
     "data": {
      "text/html": [
       "<div>\n",
       "<style>\n",
       "    .dataframe thead tr:only-child th {\n",
       "        text-align: right;\n",
       "    }\n",
       "\n",
       "    .dataframe thead th {\n",
       "        text-align: left;\n",
       "    }\n",
       "\n",
       "    .dataframe tbody tr th {\n",
       "        vertical-align: top;\n",
       "    }\n",
       "</style>\n",
       "<table border=\"1\" class=\"dataframe\">\n",
       "  <thead>\n",
       "    <tr style=\"text-align: right;\">\n",
       "      <th></th>\n",
       "      <th>source</th>\n",
       "      <th>target</th>\n",
       "      <th>descript</th>\n",
       "      <th>group</th>\n",
       "    </tr>\n",
       "  </thead>\n",
       "  <tbody>\n",
       "    <tr>\n",
       "      <th>0</th>\n",
       "      <td>Code</td>\n",
       "      <td>Main</td>\n",
       "      <td>main program</td>\n",
       "      <td>code</td>\n",
       "    </tr>\n",
       "    <tr>\n",
       "      <th>1</th>\n",
       "      <td>Code</td>\n",
       "      <td>class EMR_Scan()</td>\n",
       "      <td>class</td>\n",
       "      <td>code</td>\n",
       "    </tr>\n",
       "    <tr>\n",
       "      <th>2</th>\n",
       "      <td>class EMR_Scan()</td>\n",
       "      <td>class variables</td>\n",
       "      <td>scan class</td>\n",
       "      <td>code</td>\n",
       "    </tr>\n",
       "    <tr>\n",
       "      <th>3</th>\n",
       "      <td>class variables</td>\n",
       "      <td>now=dt.date.today</td>\n",
       "      <td>strftime current date</td>\n",
       "      <td>code</td>\n",
       "    </tr>\n",
       "    <tr>\n",
       "      <th>4</th>\n",
       "      <td>Main</td>\n",
       "      <td>root=My_Window(None)</td>\n",
       "      <td>tkinter window</td>\n",
       "      <td>code</td>\n",
       "    </tr>\n",
       "  </tbody>\n",
       "</table>\n",
       "</div>"
      ],
      "text/plain": [
       "             source                target               descript group\n",
       "0              Code                  Main           main program  code\n",
       "1              Code      class EMR_Scan()                  class  code\n",
       "2  class EMR_Scan()       class variables             scan class  code\n",
       "3   class variables     now=dt.date.today  strftime current date  code\n",
       "4              Main  root=My_Window(None)         tkinter window  code"
      ]
     },
     "execution_count": 7,
     "metadata": {},
     "output_type": "execute_result"
    }
   ],
   "source": [
    "df1.head()"
   ]
  },
  {
   "cell_type": "code",
   "execution_count": 8,
   "metadata": {},
   "outputs": [
    {
     "name": "stdout",
     "output_type": "stream",
     "text": [
      "0 code\n",
      "1 dependancy\n",
      "2 process\n",
      "3 top\n"
     ]
    }
   ],
   "source": [
    "group_list=df1.group.unique().tolist()\n",
    "s=df1.groupby('group')\n",
    "ngl=[]\n",
    "for gl in group_list:\n",
    "    x=list(s.get_group(gl)['target'])\n",
    "    ngl.append(x)\n",
    "    \n",
    "gldict={}\n",
    "for j,k in enumerate (group_list):\n",
    "    print(j,k)\n",
    "    gldict[k]=ngl[j]\n"
   ]
  },
  {
   "cell_type": "code",
   "execution_count": 9,
   "metadata": {
    "ExecuteTime": {
     "end_time": "2019-09-08T22:24:03.598272Z",
     "start_time": "2019-09-08T22:24:03.587271Z"
    }
   },
   "outputs": [
    {
     "data": {
      "text/plain": [
       "['source', 'target', 'descript', 'group']"
      ]
     },
     "execution_count": 9,
     "metadata": {},
     "output_type": "execute_result"
    }
   ],
   "source": [
    "header_list=df1.columns.tolist()\n",
    "header_list"
   ]
  },
  {
   "cell_type": "code",
   "execution_count": 10,
   "metadata": {
    "ExecuteTime": {
     "end_time": "2019-09-08T22:24:04.089300Z",
     "start_time": "2019-09-08T22:24:03.602272Z"
    },
    "scrolled": false
   },
   "outputs": [
    {
     "name": "stdout",
     "output_type": "stream",
     "text": [
      "code=['Main', 'class EMR_Scan()', 'class variables', 'now=dt.date.today', 'root=My_Window(None)', 'mainloop()', 'def __init__', 'self.scan_string=scan_string', 'self.query_database()', 'now=dt.date.today', 'time_of_day=dt.datetime.today()', 'self.TLF_mode_list()', 'def query_database()', 'def TLF_mode_list()', 'class my_window(Tk)', 'class The_Frame(Frame)', 'class variables', 'root=My_Window(None)', 'form=The_Frame(root)', 'def __init__(self,parent)', 'def initialize(self)', 'def __init__ (self,the_window)', 'def the_list_box(self)', 'def submit(self)']\n",
      "dependancy=['pandas', 'numpy', 'matplotlib', 're', 'sqlite3', 'datetime', 'qrcode', 'os', 'sys']\n",
      "process=['Process', 'EMR Event', 'scan equipment barcode', 'select TLF mode', 'describe emr event', 'submit emr', 'upload to emr queue']\n",
      "top=['Dependancies', 'Code']\n"
     ]
    }
   ],
   "source": [
    "e = zip(df1.source,df1.target)\n",
    "e=list(e)\n",
    "\n",
    "# print(e)\n",
    "# global k\n",
    "\n",
    "\n",
    "global G\n",
    "G = nx.DiGraph()\n",
    "G.add_edges_from(e)\n",
    "\n",
    "assign_attrs_to_edges(e,header_list)\n",
    "\n",
    "the_attr='descript'   \n",
    "# bfs_data, starting_node=BFS(source='submit_EMR',the_attr=the_attr)\n",
    "# make_graph(bfs_data,starting_node,gldict)\n",
    "\n",
    "bfs_data, starting_node=BFS(source='Code',the_attr=the_attr)\n",
    "make_graph(bfs_data,starting_node,gldict)\n",
    "\n",
    "# top_level_data,starting_node=top_level('programs')\n",
    "# make_graph(top_level_data,starting_node+'top')\n"
   ]
  },
  {
   "cell_type": "markdown",
   "metadata": {},
   "source": [
    "# Extras"
   ]
  },
  {
   "cell_type": "code",
   "execution_count": null,
   "metadata": {
    "ExecuteTime": {
     "end_time": "2019-09-08T22:24:04.128302Z",
     "start_time": "2019-09-08T22:24:04.095301Z"
    },
    "collapsed": true,
    "deletable": false,
    "editable": false,
    "run_control": {
     "frozen": true
    }
   },
   "outputs": [],
   "source": [
    "e"
   ]
  },
  {
   "cell_type": "code",
   "execution_count": null,
   "metadata": {
    "collapsed": true,
    "deletable": false,
    "editable": false,
    "run_control": {
     "frozen": true
    }
   },
   "outputs": [],
   "source": [
    "def golf(**kwargs):\n",
    "    for key, value in kwargs.items():\n",
    "        print(f'{key}={value}')\n",
    "    return value\n"
   ]
  },
  {
   "cell_type": "code",
   "execution_count": null,
   "metadata": {
    "collapsed": true
   },
   "outputs": [],
   "source": []
  },
  {
   "cell_type": "code",
   "execution_count": null,
   "metadata": {
    "collapsed": true,
    "deletable": false,
    "editable": false,
    "run_control": {
     "frozen": true
    }
   },
   "outputs": [],
   "source": [
    "s=df1.groupby('group')\n",
    "d=list(s.get_group('dependancy')['target'])\n",
    "t=list(s.get_group('code')['target'])\n",
    "c=list(s.get_group('top')['target'])"
   ]
  },
  {
   "cell_type": "code",
   "execution_count": null,
   "metadata": {
    "collapsed": true,
    "deletable": false,
    "editable": false,
    "run_control": {
     "frozen": true
    }
   },
   "outputs": [],
   "source": [
    "p=golf(dd=d,tt=t,cc=c)\n",
    "\n",
    "type(p)"
   ]
  },
  {
   "cell_type": "code",
   "execution_count": null,
   "metadata": {
    "collapsed": true,
    "deletable": false,
    "editable": false,
    "run_control": {
     "frozen": true
    }
   },
   "outputs": [],
   "source": [
    "def golf(*args):\n",
    "    print(args[0])\n",
    "    for i,k in enumerate (args):\n",
    "        print(i,k[i][0])\n",
    "        print(len(args))"
   ]
  },
  {
   "cell_type": "code",
   "execution_count": null,
   "metadata": {
    "collapsed": true,
    "deletable": false,
    "editable": false,
    "run_control": {
     "frozen": true
    }
   },
   "outputs": [],
   "source": [
    "ngl"
   ]
  },
  {
   "cell_type": "code",
   "execution_count": null,
   "metadata": {
    "collapsed": true,
    "deletable": false,
    "editable": false,
    "run_control": {
     "frozen": true
    }
   },
   "outputs": [],
   "source": [
    "ngl[0]"
   ]
  },
  {
   "cell_type": "code",
   "execution_count": null,
   "metadata": {
    "collapsed": true,
    "deletable": false,
    "editable": false,
    "run_control": {
     "frozen": true
    }
   },
   "outputs": [],
   "source": [
    "group_list"
   ]
  },
  {
   "cell_type": "code",
   "execution_count": null,
   "metadata": {
    "collapsed": true,
    "deletable": false,
    "editable": false,
    "run_control": {
     "frozen": true
    }
   },
   "outputs": [],
   "source": [
    "gldict={}"
   ]
  },
  {
   "cell_type": "code",
   "execution_count": null,
   "metadata": {
    "collapsed": true,
    "deletable": false,
    "editable": false,
    "run_control": {
     "frozen": true
    }
   },
   "outputs": [],
   "source": [
    "for j,k in enumerate (group_list):\n",
    "    print(j,k)\n",
    "    \n",
    "    gldict[k]=ngl[j]"
   ]
  },
  {
   "cell_type": "code",
   "execution_count": null,
   "metadata": {
    "collapsed": true,
    "deletable": false,
    "editable": false,
    "run_control": {
     "frozen": true
    }
   },
   "outputs": [],
   "source": [
    "gldict"
   ]
  },
  {
   "cell_type": "code",
   "execution_count": null,
   "metadata": {
    "collapsed": true,
    "deletable": false,
    "editable": false,
    "run_control": {
     "frozen": true
    }
   },
   "outputs": [],
   "source": [
    "for key, value in gldict.items():\n",
    "    print(f'{key}={value}')"
   ]
  },
  {
   "cell_type": "code",
   "execution_count": null,
   "metadata": {
    "collapsed": true,
    "deletable": false,
    "editable": false,
    "run_control": {
     "frozen": true
    }
   },
   "outputs": [],
   "source": [
    "def golf(**kwargs):\n",
    "    for key, value in kwargs.items():\n",
    "            print(f'{key}={value}')"
   ]
  },
  {
   "cell_type": "code",
   "execution_count": null,
   "metadata": {
    "collapsed": true
   },
   "outputs": [],
   "source": []
  }
 ],
 "metadata": {
  "hide_input": false,
  "kernelspec": {
   "display_name": "Python 3",
   "language": "python",
   "name": "python3"
  },
  "language_info": {
   "codemirror_mode": {
    "name": "ipython",
    "version": 3
   },
   "file_extension": ".py",
   "mimetype": "text/x-python",
   "name": "python",
   "nbconvert_exporter": "python",
   "pygments_lexer": "ipython3",
   "version": "3.6.2"
  },
  "latex_envs": {
   "LaTeX_envs_menu_present": true,
   "autoclose": false,
   "autocomplete": true,
   "bibliofile": "biblio.bib",
   "cite_by": "apalike",
   "current_citInitial": 1,
   "eqLabelWithNumbers": true,
   "eqNumInitial": 1,
   "hotkeys": {
    "equation": "Ctrl-E",
    "itemize": "Ctrl-I"
   },
   "labels_anchors": false,
   "latex_user_defs": false,
   "report_style_numbering": false,
   "user_envs_cfg": false
  },
  "toc": {
   "base_numbering": 1,
   "nav_menu": {},
   "number_sections": true,
   "sideBar": true,
   "skip_h1_title": false,
   "title_cell": "Table of Contents",
   "title_sidebar": "Contents",
   "toc_cell": false,
   "toc_position": {
    "height": "calc(100% - 180px)",
    "left": "10px",
    "top": "150px",
    "width": "165px"
   },
   "toc_section_display": true,
   "toc_window_display": true
  },
  "varInspector": {
   "cols": {
    "lenName": 16,
    "lenType": 16,
    "lenVar": 40
   },
   "kernels_config": {
    "python": {
     "delete_cmd_postfix": "",
     "delete_cmd_prefix": "del ",
     "library": "var_list.py",
     "varRefreshCmd": "print(var_dic_list())"
    },
    "r": {
     "delete_cmd_postfix": ") ",
     "delete_cmd_prefix": "rm(",
     "library": "var_list.r",
     "varRefreshCmd": "cat(var_dic_list()) "
    }
   },
   "types_to_exclude": [
    "module",
    "function",
    "builtin_function_or_method",
    "instance",
    "_Feature"
   ],
   "window_display": false
  }
 },
 "nbformat": 4,
 "nbformat_minor": 2
}
