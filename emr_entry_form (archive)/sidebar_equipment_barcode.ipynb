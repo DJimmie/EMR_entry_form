{
 "cells": [
  {
   "cell_type": "markdown",
   "metadata": {},
   "source": [
    "# EQUIPMENT BARCODE GENERATOR"
   ]
  },
  {
   "cell_type": "markdown",
   "metadata": {},
   "source": [
    "# Depandancies"
   ]
  },
  {
   "cell_type": "code",
   "execution_count": 1,
   "metadata": {
    "collapsed": true
   },
   "outputs": [],
   "source": [
    "from scipy import linalg\n",
    "import matplotlib.pyplot as plt\n",
    "import pandas as pd\n",
    "import numpy as np\n",
    "import barcode\n",
    "import sqlite3\n",
    "import qrcode\n"
   ]
  },
  {
   "cell_type": "markdown",
   "metadata": {},
   "source": [
    "# Class"
   ]
  },
  {
   "cell_type": "code",
   "execution_count": 3,
   "metadata": {
    "collapsed": true
   },
   "outputs": [],
   "source": [
    "class Emr_Barcode_Labels():\n",
    "    \n",
    "    sqlite_server=r'\\\\camradfs01.ccc.coopcam.com\\testlab_i\\CTDC_Systems\\HCTC_EMR_CSP_database\\emr_database.db'\n",
    "    conn=sqlite3.connect(sqlite_server)\n",
    "    cur=conn.cursor()\n",
    "    \n",
    "    def __init__(self,equip_class):\n",
    "        self.equip_class=equip_class\n",
    "        self.query_database()\n",
    "        \n",
    "    def query_database(self):\n",
    "        \"\"\"query the equipment ID table for all equipment under the specified equip_class\"\"\"\n",
    "        \n",
    "        self.the_sql_command=f\"SELECT DISTINCT EQUIPMENT_ID from emr_data_1 WHERE EQUIPMENT_CLASSIFICATION='{self.equip_class}'\"\n",
    "        \n",
    "        self.df=pd.read_sql_query(sql=self.the_sql_command,con=Emr_Barcode_Labels.conn, index_col=None)\n",
    "        \n",
    "        self.equip_list=list(self.df['EQUIPMENT_ID'])\n",
    "        \n",
    "        return self.equip_list\n",
    "    \n",
    "    def make_barcodes(self):\n",
    "        \"\"\"make barcodes for the items in self.equip_list\"\"\"\n",
    "        \n",
    "        for i in self.equip_list:\n",
    "            item=qrcode.make(i)\n",
    "            item.save(f\"\"\"C:\\\\Users\\\\96015\\\\Pictures\\\\{i}.png\"\"\")\n",
    "            \n",
    "            \n",
    "           \n",
    "        \n",
    "        \n",
    "        "
   ]
  },
  {
   "cell_type": "code",
   "execution_count": 7,
   "metadata": {
    "collapsed": true
   },
   "outputs": [],
   "source": [
    "equip_class='Proportional Pressure Controller'\n",
    "labels=Emr_Barcode_Labels(equip_class=equip_class)"
   ]
  },
  {
   "cell_type": "code",
   "execution_count": 8,
   "metadata": {},
   "outputs": [
    {
     "data": {
      "text/plain": [
       "['Z1E-PPC',\n",
       " 'Z2G-PPC',\n",
       " 'Z3-LQD-PPC1',\n",
       " 'Z1A-PPC',\n",
       " 'Proportional Pressure Controller (manifold room)']"
      ]
     },
     "execution_count": 8,
     "metadata": {},
     "output_type": "execute_result"
    }
   ],
   "source": [
    "labels.query_database()"
   ]
  },
  {
   "cell_type": "code",
   "execution_count": 9,
   "metadata": {
    "collapsed": true
   },
   "outputs": [],
   "source": [
    "labels.make_barcodes()"
   ]
  },
  {
   "cell_type": "markdown",
   "metadata": {},
   "source": [
    "# Extra"
   ]
  },
  {
   "cell_type": "code",
   "execution_count": null,
   "metadata": {
    "collapsed": true
   },
   "outputs": [],
   "source": [
    "# equip_string='Bemco Unit -1 SN:0001 Model:1234 BGH'\n",
    "\n",
    "equip_string='UPS (Tripp-Lite)'\n",
    "\n",
    "i=equip_string.split()\n",
    "\n",
    "\n",
    "item=qrcode.make(equip_string)\n",
    "item.save(f\"\"\"C:\\\\Users\\\\96015\\\\Pictures\\\\{i[0]}.png\"\"\")\n",
    "    \n",
    "  \n"
   ]
  },
  {
   "cell_type": "code",
   "execution_count": null,
   "metadata": {},
   "outputs": [],
   "source": [
    "item.get_image()"
   ]
  },
  {
   "cell_type": "markdown",
   "metadata": {},
   "source": [
    "i"
   ]
  }
 ],
 "metadata": {
  "hide_input": false,
  "kernelspec": {
   "display_name": "Python 3",
   "language": "python",
   "name": "python3"
  },
  "language_info": {
   "codemirror_mode": {
    "name": "ipython",
    "version": 3
   },
   "file_extension": ".py",
   "mimetype": "text/x-python",
   "name": "python",
   "nbconvert_exporter": "python",
   "pygments_lexer": "ipython3",
   "version": "3.6.2"
  },
  "latex_envs": {
   "LaTeX_envs_menu_present": true,
   "autoclose": false,
   "autocomplete": true,
   "bibliofile": "biblio.bib",
   "cite_by": "apalike",
   "current_citInitial": 1,
   "eqLabelWithNumbers": true,
   "eqNumInitial": 1,
   "hotkeys": {
    "equation": "Ctrl-E",
    "itemize": "Ctrl-I"
   },
   "labels_anchors": false,
   "latex_user_defs": false,
   "report_style_numbering": false,
   "user_envs_cfg": false
  },
  "toc": {
   "base_numbering": 1,
   "nav_menu": {},
   "number_sections": true,
   "sideBar": true,
   "skip_h1_title": false,
   "title_cell": "Table of Contents",
   "title_sidebar": "Contents",
   "toc_cell": false,
   "toc_position": {
    "height": "calc(100% - 180px)",
    "left": "10px",
    "top": "150px",
    "width": "195px"
   },
   "toc_section_display": true,
   "toc_window_display": true
  },
  "varInspector": {
   "cols": {
    "lenName": 16,
    "lenType": 16,
    "lenVar": 40
   },
   "kernels_config": {
    "python": {
     "delete_cmd_postfix": "",
     "delete_cmd_prefix": "del ",
     "library": "var_list.py",
     "varRefreshCmd": "print(var_dic_list())"
    },
    "r": {
     "delete_cmd_postfix": ") ",
     "delete_cmd_prefix": "rm(",
     "library": "var_list.r",
     "varRefreshCmd": "cat(var_dic_list()) "
    }
   },
   "types_to_exclude": [
    "module",
    "function",
    "builtin_function_or_method",
    "instance",
    "_Feature"
   ],
   "window_display": false
  }
 },
 "nbformat": 4,
 "nbformat_minor": 2
}
