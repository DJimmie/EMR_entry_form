{
 "cells": [
  {
   "cell_type": "markdown",
   "metadata": {},
   "source": [
    "# Dependancies"
   ]
  },
  {
   "cell_type": "code",
   "execution_count": 97,
   "metadata": {
    "collapsed": true
   },
   "outputs": [],
   "source": [
    "import numpy as np\n",
    "import pandas as pd\n",
    "import networkx as nx\n",
    "%matplotlib inline\n",
    "import matplotlib.pyplot as plt\n",
    "import datetime as dt\n",
    "from IPython.display import Image\n",
    "import sqlite3\n",
    "from networkx.algorithms import community\n",
    "from ipywidgets import interact\n",
    "import ipywidgets as widgets\n",
    "from IPython.display import clear_output\n",
    "# from graphviz import Digraph\n",
    "# import graphviz\n",
    "# import pydot\n",
    "import os\n",
    "import sys\n",
    "os.environ[\"PATH\"] += os.pathsep + 'C:/Program Files (x86)/Graphviz2.38/bin/'\n",
    "\n",
    "try:\n",
    "    import tkinter.ttk\n",
    "    from tkinter import *\n",
    "#     from tkinter.ttk import *\n",
    "except:\n",
    "    from tkinter import *\n",
    "\n",
    "from tkinter import messagebox\n"
   ]
  },
  {
   "cell_type": "markdown",
   "metadata": {},
   "source": [
    "# Class"
   ]
  },
  {
   "cell_type": "markdown",
   "metadata": {},
   "source": [
    "## The scan class"
   ]
  },
  {
   "cell_type": "code",
   "execution_count": 98,
   "metadata": {
    "collapsed": true
   },
   "outputs": [],
   "source": [
    "class Emr_Scan():\n",
    "    \n",
    "    now=dt.date.today().strftime('%Y-%m-%d')\n",
    "    time_of_day=dt.datetime.today().strftime('%I:%M:%S %p')\n",
    "    sqlite_server=r'\\\\camradfs01.ccc.coopcam.com\\testlab_i\\CTDC_Systems\\HCTC_EMR_CSP_database\\emr_database.db'\n",
    "    conn=sqlite3.connect(sqlite_server)\n",
    "    cur=conn.cursor()\n",
    "    \n",
    "    \n",
    "    def __init__(self,scan_string):\n",
    "        self.scan_string=scan_string\n",
    "        self.query_database()\n",
    "        \n",
    "    def query_database(self):\n",
    "        \"\"\"query the database view which contains the equipment ID, classification, model number and s/n\"\"\"\n",
    "        \n",
    "        self.the_sql_command=f\"SELECT * FROM emr_equip_ID_table WHERE EQUIPMENT_ID='{self.scan_string}'\"\n",
    "        \n",
    "        print(self.the_sql_command)\n",
    "        \n",
    "        self.df1=pd.read_sql_query(sql=self.the_sql_command,con=Emr_Scan.conn, index_col=None)\n",
    "        \n",
    "        self.TLF_mode_list()\n",
    "        \n",
    "        return self.df1\n",
    "    \n",
    "    def TLF_mode_list(self):\n",
    "        \"\"\"generate the Top Level Failure Mode List from querying the Malfunction Failure Mode for the specified equipment\"\"\"\n",
    "        self.equip_class=self.df1['EQUIPMENT_CLASSIFICATION'].values[0]\n",
    "        self.the_sql_command=f\"select DISTINCT emr_data_1.MALFUNCTION_FAILURE_MODE from emr_data_1 where EQUIPMENT_CLASSIFICATION='{self.equip_class}'\";\n",
    "        \n",
    "        print(self.equip_class)\n",
    "        \n",
    "        print (self.the_sql_command)\n",
    "        \n",
    "        self.TLF=pd.read_sql_query(sql=self.the_sql_command,con=Emr_Scan.conn, index_col=None)\n",
    "        \n",
    "        self.TLF_list=list(self.TLF['MALFUNCTION_FAILURE_MODE'])\n",
    "        \n",
    "        return self.TLF_list\n",
    "    \n",
    "    \n",
    "    def upload_emr(self,location,reported_by,tlfm,describe):\n",
    "        \"\"\"upload (INSERT) user's input into the emr_queue database table\"\"\"\n",
    "        \n",
    "        columns=('Date_Reported','Time_of_Day','Location','Reported_By','Equipment_ID','Equipment_Class','Observed_Failure_Mode','Description')\n",
    "        v=(self.now,self.time_of_day,location,reported_by,self.scan_string,self.equip_class,tlfm,describe)\n",
    "        \n",
    "        self.the_sql_command=f\"INSERT INTO emr_queue {columns} VALUES {v};\"\n",
    "        Emr_Scan.cur.execute(self.the_sql_command)\n",
    "        Emr_Scan.conn.commit()\n",
    "        \n",
    "        return self.the_sql_command\n",
    "    \n",
    "    "
   ]
  },
  {
   "cell_type": "markdown",
   "metadata": {},
   "source": [
    "## the interface class"
   ]
  },
  {
   "cell_type": "markdown",
   "metadata": {},
   "source": [
    "### tkinter window"
   ]
  },
  {
   "cell_type": "code",
   "execution_count": 99,
   "metadata": {
    "collapsed": true
   },
   "outputs": [],
   "source": [
    "class My_Window(Tk):\n",
    "    \n",
    "    now=dt.date.today().strftime('%B %d, %Y')\n",
    "    time_of_day=dt.datetime.today().strftime('%I:%M:%S %p')\n",
    "\n",
    "    def __init__(self,parent,*args,**kargs):\n",
    "        Tk.__init__(self,parent,*args,**kargs)\n",
    "        self.parent=parent\n",
    "        self.initialize()\n",
    "        \n",
    "        self.banner=Label(self,text=f'Equipment Malfunction Report Form',fg='white',bg='blue',font='Ariel 30 bold')\n",
    "        self.banner.grid(row=0,column=0)\n",
    "        self.date_banner=Label(self,text=f'{My_Window.now}',fg='white',bg='blue',font='Ariel 20 bold')\n",
    "        self.date_banner.grid(row=1,column=0)\n",
    "        \n",
    "        \n",
    "    def initialize(self):\n",
    "        self.title('EMR SUBMISSION FORM')\n",
    "#         the_window_width=self.winfo_screenwidth()\n",
    "#         the_window_height=self.winfo_screenheight()\n",
    "#         self.configure(width=the_window_width,height=the_window_height)\n",
    "#         the_window_width=1200\n",
    "#         the_window_height=700\n",
    "#         self.geometry(f'{the_window_width}x{the_window_height}+0+0')\n",
    "#         self.attributes('-fullscreen', False)\n",
    "        self['borderwidth']=4\n",
    "        self['bg']='blue' \n",
    "        \n",
    "    \n",
    "        "
   ]
  },
  {
   "cell_type": "markdown",
   "metadata": {},
   "source": [
    "### tkinter frame"
   ]
  },
  {
   "cell_type": "code",
   "execution_count": 100,
   "metadata": {
    "collapsed": true
   },
   "outputs": [],
   "source": [
    "class The_Frame(Frame):\n",
    "    \n",
    "        \n",
    "    def __init__ (self,the_window,*args,**kwargs):\n",
    "        \"\"\"Instance of the frame\"\"\"\n",
    "        Frame.__init__(self,the_window,*args,**kwargs)\n",
    "    \n",
    "        self.frame=Frame(self)\n",
    "        self['background']='red'\n",
    "        self['relief']='raised'\n",
    "        self['borderwidth']=9\n",
    "        self.grid(row=2,column=0)\n",
    "        banner_text='Scan equipment barcode. Select the applicable failure mode and provide a description'\n",
    "        self.frame_banner=Label(self,text=banner_text,fg='white',bg='red',font='Ariel 15 bold')\n",
    "        self.frame_banner.grid(row=0,column=0,columnspan=5,pady=15)\n",
    "        \n",
    "        self.widget_frame()\n",
    "        self.the_list_box()\n",
    "        self.frame_text()\n",
    "        self.buttons()\n",
    "        self.location_drop_down()\n",
    "        self.reported_by()\n",
    "        \n",
    "\n",
    "    def widget_frame(self):\n",
    "        self.wf=Frame(self,bg='blue',relief='sunken')\n",
    "        self.wf['borderwidth']=9\n",
    "        self.wf.grid(row=2,column=1,columnspan=1,sticky=W)\n",
    "\n",
    "    def the_list_box(self):\n",
    "        \"\"\"Creates list box to list the failure per the equipment class\"\"\"\n",
    "        self.listbox_banner=Label(self,text=f'FAILURE MODE',fg='white',bg='red',font='Ariel 10 bold')\n",
    "        self.listbox_banner.grid(row=1,column=0,columnspan=1)\n",
    "        \n",
    "        self.list_box=Listbox(self,font=8,bg='yellow',borderwidth=2,height=20,width=30)\n",
    "        self.list_box.grid(row=2,column=0,columnspan=1,sticky=W)\n",
    "        \n",
    "   \n",
    "    def submit(self):\n",
    "        \"\"\"Uploads EMR to the emr_queue\"\"\"\n",
    "        \n",
    "        if (self.location_var.get()=='' or self.entry_var.get()=='' or self.reported_by=='' or self.describe.get(\"1.0\",\"end-1c\")==''):\n",
    "            messagebox.showinfo(\"EMR NOT SUBMITTED\", \"COMPLETE ALL FIELDS BEFORE SUBMITTING THE EMR\")\n",
    "            return\n",
    "        \n",
    "        \n",
    "        the_date=self.now=dt.date.today().strftime('%Y-%m-%d')\n",
    "        the_time=self.time_of_day=dt.datetime.today().strftime('%I:%M:%S %p')\n",
    "        \n",
    "        equip_id=self.entry_var.get()\n",
    "        reported_by=self.technician.get()\n",
    "        the_location=self.loc_combo.get()\n",
    "        failure_mode=self.list_box.get(ANCHOR)\n",
    "        tech_describe=self.describe.get(\"1.0\",\"end-1c\")\n",
    "        \n",
    "        if (failure_mode==''):\n",
    "            failure_mode='To Be Determined'\n",
    "        \n",
    "        print(the_date)\n",
    "        print(the_time)\n",
    "        print(equip_id)\n",
    "        print(reported_by)\n",
    "        print(the_location)\n",
    "        print(failure_mode)\n",
    "        print(tech_describe)\n",
    "        print(self.e_class)\n",
    "        \n",
    "        \n",
    "        columns=('Date_Reported','Time_of_Day','Location','Reported_By','Equipment_ID',\n",
    "                 'Equipment_Class','Observed_Failure_Mode','Description')\n",
    "        v=(the_date,the_time,the_location,reported_by,equip_id,self.e_class,failure_mode,tech_describe)\n",
    "        \n",
    "        sqlite_server=r'\\\\camradfs01.ccc.coopcam.com\\testlab_i\\CTDC_Systems\\HCTC_EMR_CSP_database\\emr_database.db'\n",
    "        try:\n",
    "            conn=sqlite3.connect(sqlite_server)\n",
    "            cur=conn.cursor()\n",
    "            self.the_sql_command=f\"INSERT INTO emr_queue {columns} VALUES {v};\"\n",
    "            cur.execute(self.the_sql_command)\n",
    "            conn.commit()\n",
    "            messagebox.showinfo(\"Title\", \"EMR HAS BEEN SUBMITTED\")\n",
    "        except:\n",
    "            messagebox.showinfo(\"Title\", \"UNABLE TO ACCESS DATABASE. TRY AGAIN OR CONTACT SYSTEMS GROUP.\")\n",
    "     \n",
    "    def get_TLFM(self):\n",
    "        \"\"\"Generates the Top Level Failure Mode (TLFM) for the equipment class.\"\"\"\n",
    "        \n",
    "#         self.equip_scan.set(self.entry_var)\n",
    "        self.equip_scan.focus_set()\n",
    "        print(f'cat\\n{self.entry_var.get()}')\n",
    "        a=Emr_Scan(self.entry_var.get())\n",
    "        self.tlfm_list=a.TLF_mode_list()\n",
    "        self.e_class=a.equip_class\n",
    "        print(self.tlfm_list)\n",
    "        self.populate_list_box()\n",
    "    \n",
    "    def populate_list_box(self):\n",
    "        \"\"\"inserts the TLFM list items into the list box\"\"\"\n",
    "        for item in self.tlfm_list:\n",
    "            self.list_box.insert(END, item)\n",
    "         \n",
    "    def clear_scan_entry(self):\n",
    "        \"\"\"Clear all fields in the event of an entry error.\"\"\"\n",
    "        self.list_box.destroy()\n",
    "        self.the_list_box()\n",
    "        \n",
    "        self.loc_combo.destroy()\n",
    "        self.location_drop_down()\n",
    "        \n",
    "        self.technician.destroy()\n",
    "        self.reported_by()\n",
    "        \n",
    "        self.equip_scan.destroy()\n",
    "        self.describe.destroy\n",
    "        self.frame_text()\n",
    "        \n",
    "        \n",
    "    @staticmethod\n",
    "    def get_location_list():\n",
    "        \"\"\"Queries the database for a distint list of locations.\"\"\"\n",
    "        sqlite_server=r'\\\\camradfs01.ccc.coopcam.com\\testlab_i\\CTDC_Systems\\HCTC_EMR_CSP_database\\emr_database.db'\n",
    "        conn=sqlite3.connect(sqlite_server)\n",
    "        cur=conn.cursor()\n",
    "        \n",
    "        the_sql_command=f'select DISTINCT Location from emr_data_1 ORDER by Location; '\n",
    "        df1=pd.read_sql_query(sql=the_sql_command,con=conn, index_col=None)\n",
    "#         print(df1)\n",
    "        \n",
    "        gl_list=list(df1['LOCATION'])\n",
    "        \n",
    "        return gl_list\n",
    "        \n",
    "        \n",
    "    def location_drop_down(self):\n",
    "        \"\"\"The cdrop down box containing the list of locations\"\"\"\n",
    "        c_list=The_Frame.get_location_list()\n",
    "#         print(c_list)\n",
    "        self.loc_label=Label(self.wf,text=f'Location',fg='white',bg='blue',font='Ariel 10 bold')\n",
    "        self.loc_label.grid(row=1,column=3,columnspan=1)\n",
    "        \n",
    "        self.location_var=StringVar()\n",
    "        self.loc_combo=ttk.Combobox(self.wf,font='Ariel 12 bold',width=30,\n",
    "                                    background='red',textvariable=self.location_var,values=c_list)\n",
    "        self.loc_combo.grid(row=2,column=3,columnspan=1,sticky=N)\n",
    "        \n",
    "    def reported_by(self):\n",
    "        \"\"\"Entry field for the user to enter name or initials.\"\"\"\n",
    "        self.tech_label=Label(self.wf,text=f'Reported By',fg='white',bg='blue',font='Ariel 10 bold')\n",
    "        self.tech_label.grid(row=1,column=4,columnspan=1)\n",
    "        self.tech_var=StringVar()\n",
    "        self.technician=Entry(self.wf,font='Ariel 12 bold',width=20,textvariable=self.tech_var)\n",
    "        self.technician.grid(row=2,column=4,columnspan=1,sticky=N,padx=10)\n",
    "        self.technician.focus_set()\n",
    "        \n",
    "    def frame_text(self):\n",
    "        \n",
    "        self.scan_label=Label(self.wf,text=f'Equipment ID',fg='white',bg='blue',font='Ariel 10 bold')\n",
    "        self.scan_label.grid(row=1,column=1,columnspan=1)\n",
    "        \n",
    "#         self.equip_scan=Text(self,borderwidth=2,height=2,width=30,font=15,wrap=WORD)\n",
    "#         self.equip_scan.insert(INSERT,\"Scan Equipment\")\n",
    "        self.entry_var=StringVar()\n",
    "        self.equip_scan=Entry(self.wf,font='Ariel 12 bold',width=30,textvariable=self.entry_var)\n",
    "        self.equip_scan.grid(row=2,column=1,columnspan=1,sticky=N,padx=10)\n",
    "        self.equip_scan.focus_set()\n",
    "        \n",
    "#         instruct_words='Scan equipment bar code'\n",
    "#         self.scan_instruct=Label(self,text=f'{instruct_words}',fg='white',bg='red',font='Ariel 10 italic')\n",
    "#         self.scan_instruct.grid(row=3,column=1,columnspan=1,sticky=N)\n",
    "        \n",
    "   \n",
    "#         p=self.equip_scan.get(\"1.0\",\"end-1c\")\n",
    "        \n",
    "        self.describe_label=Label(self.wf,text=f'Describe the Incident',fg='white',bg='blue',font='Ariel 10 bold')\n",
    "        self.describe_label.grid(row=3,column=1,columnspan=2,pady=10)\n",
    "        \n",
    "        self.describe=Text(self.wf,borderwidth=2,bg='yellow',height=10,width=30,font=15,wrap=WORD)\n",
    "        self.describe.grid(row=4,column=0,columnspan=2,sticky=N)\n",
    "        \n",
    "    def exit_program(self):\n",
    "        \"\"\"Exit program\"\"\"\n",
    "        My_Window.bye_bye(self)\n",
    "        \n",
    "        \n",
    "        \n",
    "    def buttons(self):\n",
    "        \"\"\"Buttons for actions\"\"\"\n",
    "        text='TLFM'\n",
    "        self.the_button=Button(self,text=text,bg='black',fg='white',font='Ariel 12 bold',relief='raised',command=self.get_TLFM)\n",
    "        self.the_button.grid(row=3,column=0,sticky=W)\n",
    "        \n",
    "        tlfm_words='Click the TLFM button to get a list of possible Failure Modes.'\n",
    "        self.tlfm_words=Label(self,text=tlfm_words,fg='yellow',bg='red',font='Ariel 12 bold')\n",
    "        self.tlfm_words.grid(row=3, column=0,columnspan=2,padx=20)\n",
    "        \n",
    "        text='Clear'\n",
    "        self.the_button=Button(self.wf,text=text,bg='white',fg='blue',font='Ariel 10 bold',relief='raised',command=self.clear_scan_entry)\n",
    "        self.the_button.grid(row=4,column=4,sticky=S)\n",
    "        \n",
    "        text='Submit'\n",
    "        self.the_button=Button(self.wf,text=text,bg='green',fg='yellow',font='Ariel 10 bold',relief='raised',command=self.submit)\n",
    "        self.the_button.grid(row=4,column=5,sticky=S)\n",
    "        \n",
    "        text='Exit'\n",
    "        self.the_button=Button(self,text=text,bg='black',fg='yellow',font='Ariel 10 bold',relief='raised',command=lambda: bye_bye())\n",
    "        self.the_button.grid(row=4,column=3,sticky=S)\n",
    "        \n",
    "          \n",
    "    \n",
    "#     def __str__(self):\n",
    "#         print(self.equip_scan.get(\"1.0\",\"end-1c\"))\n",
    "#         return print(self.equip_scan.get(\"1.0\",\"end-1c\"))\n",
    "        \n",
    "    "
   ]
  },
  {
   "cell_type": "markdown",
   "metadata": {},
   "source": [
    "# Functions"
   ]
  },
  {
   "cell_type": "code",
   "execution_count": 101,
   "metadata": {
    "collapsed": true
   },
   "outputs": [],
   "source": [
    "def bye_bye():\n",
    "    root.destroy()"
   ]
  },
  {
   "cell_type": "markdown",
   "metadata": {},
   "source": [
    "# Main"
   ]
  },
  {
   "cell_type": "markdown",
   "metadata": {},
   "source": [
    "## User Interface"
   ]
  },
  {
   "cell_type": "code",
   "execution_count": 102,
   "metadata": {
    "collapsed": true
   },
   "outputs": [],
   "source": [
    "root=My_Window(None)"
   ]
  },
  {
   "cell_type": "code",
   "execution_count": 103,
   "metadata": {
    "scrolled": false
   },
   "outputs": [],
   "source": [
    "form=The_Frame(root)"
   ]
  },
  {
   "cell_type": "code",
   "execution_count": 104,
   "metadata": {
    "scrolled": false
   },
   "outputs": [
    {
     "name": "stdout",
     "output_type": "stream",
     "text": [
      "cat\n",
      "Bemco Unit -3\n",
      "SELECT * FROM emr_equip_ID_table WHERE EQUIPMENT_ID='Bemco Unit -3'\n",
      "Temperature Control Unit\n",
      "select DISTINCT emr_data_1.MALFUNCTION_FAILURE_MODE from emr_data_1 where EQUIPMENT_CLASSIFICATION='Temperature Control Unit'\n",
      "Temperature Control Unit\n",
      "select DISTINCT emr_data_1.MALFUNCTION_FAILURE_MODE from emr_data_1 where EQUIPMENT_CLASSIFICATION='Temperature Control Unit'\n",
      "['TCU Failed Heating', 'TBD', 'No 480VAC power', 'TCU Failed Cooling', 'Scheduled Maintenance\\n', 'TCU Failed Defrost', 'No Communication (RS-485)', 'No LN2 Source', 'No 120VAC power', 'TCU Vibration', 'None', 'No communication (PC to TCU)', 'Incorrect Sensor Reading', 'Software Anomaly', 'Software Error', 'Electrical (Controls)']\n",
      "2019-10-11\n",
      "01:57:08 PM\n",
      "Bemco Unit -3\n",
      "Jim Dowd\n",
      "Cell 15\n",
      "TCU Failed Heating\n",
      "Unit stopped heating 2 hours into the test. \n",
      "Temperature Control Unit\n"
     ]
    }
   ],
   "source": [
    "mainloop()"
   ]
  },
  {
   "cell_type": "code",
   "execution_count": null,
   "metadata": {
    "collapsed": true
   },
   "outputs": [],
   "source": []
  }
 ],
 "metadata": {
  "hide_input": false,
  "kernelspec": {
   "display_name": "Python 3",
   "language": "python",
   "name": "python3"
  },
  "language_info": {
   "codemirror_mode": {
    "name": "ipython",
    "version": 3
   },
   "file_extension": ".py",
   "mimetype": "text/x-python",
   "name": "python",
   "nbconvert_exporter": "python",
   "pygments_lexer": "ipython3",
   "version": "3.6.2"
  },
  "latex_envs": {
   "LaTeX_envs_menu_present": true,
   "autoclose": false,
   "autocomplete": true,
   "bibliofile": "biblio.bib",
   "cite_by": "apalike",
   "current_citInitial": 1,
   "eqLabelWithNumbers": true,
   "eqNumInitial": 1,
   "hotkeys": {
    "equation": "Ctrl-E",
    "itemize": "Ctrl-I"
   },
   "labels_anchors": false,
   "latex_user_defs": false,
   "report_style_numbering": false,
   "user_envs_cfg": false
  },
  "toc": {
   "base_numbering": 1,
   "nav_menu": {},
   "number_sections": true,
   "sideBar": true,
   "skip_h1_title": false,
   "title_cell": "Table of Contents",
   "title_sidebar": "Contents",
   "toc_cell": false,
   "toc_position": {
    "height": "calc(100% - 180px)",
    "left": "10px",
    "top": "150px",
    "width": "181px"
   },
   "toc_section_display": true,
   "toc_window_display": true
  },
  "varInspector": {
   "cols": {
    "lenName": 16,
    "lenType": 16,
    "lenVar": 40
   },
   "kernels_config": {
    "python": {
     "delete_cmd_postfix": "",
     "delete_cmd_prefix": "del ",
     "library": "var_list.py",
     "varRefreshCmd": "print(var_dic_list())"
    },
    "r": {
     "delete_cmd_postfix": ") ",
     "delete_cmd_prefix": "rm(",
     "library": "var_list.r",
     "varRefreshCmd": "cat(var_dic_list()) "
    }
   },
   "types_to_exclude": [
    "module",
    "function",
    "builtin_function_or_method",
    "instance",
    "_Feature"
   ],
   "window_display": false
  }
 },
 "nbformat": 4,
 "nbformat_minor": 2
}
